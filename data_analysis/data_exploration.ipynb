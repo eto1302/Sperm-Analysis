{
 "cells": [
  {
   "cell_type": "markdown",
   "metadata": {},
   "source": [
    "# Data Familiarization\n",
    "\n",
    "This Python notebook aims to explore the data of the [Visem Dataset](https://datasets.simula.no/visem/). It aims to investigate possible relationships between parameters."
   ]
  },
  {
   "cell_type": "code",
   "execution_count": null,
   "metadata": {},
   "outputs": [],
   "source": [
    "import seaborn as sns\n",
    "import matplotlib.pyplot as plt\n",
    "import pandas as pd\n",
    "import numpy as np"
   ]
  },
  {
   "cell_type": "code",
   "execution_count": null,
   "metadata": {},
   "outputs": [],
   "source": [
    "train_data = 'file.csv' \n",
    "train_df = pd.read_csv(train_data)\n",
    "\n",
    "# drop rows with NaN values\n",
    "train_df = train_df.dropna()\n",
    "print(train_df.head())"
   ]
  },
  {
   "cell_type": "code",
   "execution_count": null,
   "metadata": {},
   "outputs": [],
   "source": [
    "# Specify the columns for which you want to compute covariance. In this case, we choose all of them. We first need to drop the timestamp and label columns.\n",
    "# train_df = train_df.drop(columns=['...'])\n",
    "correlation_df = train_df.corr()\n",
    "# Now we plot the correlation matrix.\n",
    "sns.heatmap(correlation_df, annot=False, cmap='coolwarm')\n",
    "plt.show()"
   ]
  },
  {
   "cell_type": "markdown",
   "metadata": {},
   "source": []
  }
 ],
 "metadata": {
  "kernelspec": {
   "display_name": "Python 3",
   "language": "python",
   "name": "python3"
  },
  "language_info": {
   "name": "python",
   "version": "3.11.0"
  }
 },
 "nbformat": 4,
 "nbformat_minor": 2
}
